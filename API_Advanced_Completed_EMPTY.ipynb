{
 "cells": [
  {
   "cell_type": "markdown",
   "metadata": {},
   "source": [
    "# Advanced APIs"
   ]
  },
  {
   "cell_type": "markdown",
   "metadata": {},
   "source": [
    "### Set up for Success"
   ]
  },
  {
   "cell_type": "code",
   "execution_count": 1,
   "metadata": {},
   "outputs": [],
   "source": [
    "import requests\n",
    "\n",
    "url='https://cae-bootstore.herokuapp.com'\n",
    "\n",
    "endpoint_login = '/login'\n",
    "endpoint_user = '/user'\n",
    "endpoint_book = '/book'\n"
   ]
  },
  {
   "cell_type": "markdown",
   "metadata": {},
   "source": [
    "## GET Requests"
   ]
  },
  {
   "cell_type": "code",
   "execution_count": 2,
   "metadata": {
    "scrolled": true
   },
   "outputs": [
    {
     "name": "stdout",
     "output_type": "stream",
     "text": [
      "[{'author': 'Arlene Dahl', 'created_on': 'Mon, 28 Feb 2022 19:21:17 GMT', 'id': 18, 'img': 'https://s2982.pcdn.co/wp-content/uploads/2018/11/always-ask-a-man-book-cover.jpg', 'pages': 198, 'subject': 'self help', 'summary': 'For women traveling back to the US 1950', 'title': 'ALWAYS ASK A MAN: THE KEY TO FEMININITY'}, {'author': 'Arnetta R. Scales', 'created_on': 'Mon, 28 Feb 2022 19:21:17 GMT', 'id': 19, 'img': 'https://s2982.pcdn.co/wp-content/uploads/2018/11/and-on-the-eighth-day-god-created-hairdressers-book-cover.jpg', 'pages': 222, 'subject': 'self help', 'summary': 'Becuase I just gotta get my hair did', 'title': 'AND ON THE EIGHTH DAY GOD CREATED HAIRDRESSERS'}, {'author': 'James Maratta', 'created_on': 'Mon, 28 Feb 2022 19:21:17 GMT', 'id': 20, 'img': 'https://s2982.pcdn.co/wp-content/uploads/2018/11/brainwashing-is-a-cinch-book-cover.jpg', 'pages': 321, 'subject': 'science', 'summary': 'We bother making a rational argument?', 'title': 'BRAINWASHING IS A CINCH!'}, {'author': 'Stephanie Jackson', 'created_on': 'Mon, 28 Feb 2022 19:21:17 GMT', 'id': 21, 'img': 'https://s2982.pcdn.co/wp-content/uploads/2018/11/cat-flexing.jpg', 'pages': 1295, 'subject': 'self help', 'summary': 'Who needs heavy weights when a fat cat will do', 'title': 'CATFLEXING: A CATLOVER’S GUIDE TO WEIGHTLIFTING, AEROBICS & STRETCHING'}, {'author': 'Micheala Giles', 'created_on': 'Mon, 28 Feb 2022 19:21:17 GMT', 'id': 22, 'img': 'https://s2982.pcdn.co/wp-content/uploads/2018/11/commuter-pig-keeper-book-cover.jpg', 'pages': 87, 'subject': 'science', 'summary': 'Not in Kansas anymore? Raising pigs in the City with a full time job?', 'title': 'THE COMMUTER PIG KEEPER'}, {'author': 'Elizabeth Worthington Strong', 'created_on': 'Mon, 28 Feb 2022 19:21:17 GMT', 'id': 24, 'img': 'https://s2982.pcdn.co/wp-content/uploads/2018/11/how-to-cook-husbands-book-cover.jpg', 'pages': 199, 'subject': 'marriage advice', 'summary': \"For when you are tired of the question What's for dinner?\", 'title': 'HOW TO COOK HUSBANDS'}, {'author': 'Lois Bird', 'created_on': 'Mon, 28 Feb 2022 19:21:17 GMT', 'id': 25, 'img': 'https://s2982.pcdn.co/wp-content/uploads/2018/11/how-to-make-your-wife-your-mistress-book-cover.jpg', 'pages': 111, 'subject': 'marriage advice', 'summary': 'Living with two women can be hard: Consolidate', 'title': 'HOW TO MAKE YOUR WIFE YOUR MISTRESS'}, {'author': 'Brenda Bence', 'created_on': 'Mon, 28 Feb 2022 19:21:17 GMT', 'id': 26, 'img': 'https://s2982.pcdn.co/wp-content/uploads/2018/11/how-you-are-like-shampoo-book-cover.jpg', 'pages': 222, 'subject': 'self help', 'summary': 'Lather, rinse, repeat.', 'title': 'HOW YOU ARE LIKE SHAMPOO'}, {'author': 'Aqua Boil', 'created_on': 'Mon, 28 Feb 2022 19:21:17 GMT', 'id': 27, 'img': 'https://s2982.pcdn.co/wp-content/uploads/2018/11/the-joy-of-waterboiling-book-cover-759x1024.jpg', 'pages': 12, 'subject': 'entertainment', 'summary': 'For when you need to have fun on a budget ', 'title': 'THE JOY OF WATER BOILING'}, {'author': 'Drew Emborsky', 'created_on': 'Mon, 28 Feb 2022 19:21:17 GMT', 'id': 28, 'img': 'https://s2982.pcdn.co/wp-content/uploads/2018/11/men-who-knit-and-the-dogs-who-love-them-book-cover.jpg', 'pages': 397, 'subject': 'entertainment', 'summary': 'Nothing finer than knitting matching sweaters for you and your dog', 'title': 'MEN WHO KNIT & THE DOGS WHO LOVE THEM'}, {'author': 'Matthew Voggel', 'created_on': 'Mon, 28 Feb 2022 19:21:17 GMT', 'id': 30, 'img': 'https://s2982.pcdn.co/wp-content/uploads/2018/11/natural-history-of-vacant-lots-book-cover-178x300.jpg', 'pages': 452, 'subject': 'science', 'summary': 'Seinfeld for Property', 'title': 'NATURAL HISTORY OF VACANT LOTS'}, {'author': 'Hester Mundis', 'created_on': 'Mon, 28 Feb 2022 19:21:17 GMT', 'id': 31, 'img': 'https://s2982.pcdn.co/wp-content/uploads/2018/11/no-hes-not-a-monkey-book-cover.jpg', 'pages': 521, 'subject': 'self help', 'summary': 'Advice on raising a teenage boy', 'title': 'NO, HE’S NOT A MONKEY, HE’S AN APE AND HE’S MY SON'}, {'author': 'Linda Wright', 'created_on': 'Mon, 28 Feb 2022 19:21:17 GMT', 'id': 32, 'img': 'https://s2982.pcdn.co/wp-content/uploads/2018/11/toilet-paper-origami-book-cover.jpg', 'pages': 222, 'subject': 'entertainment', 'summary': 'A book for when you leave your phone in the other room.', 'title': 'TOILET PAPER ORIGAMI'}, {'author': 'Martin Greenberg', 'created_on': 'Mon, 28 Feb 2022 19:21:17 GMT', 'id': 33, 'img': 'https://s2982.pcdn.co/wp-content/uploads/2018/11/zombie-raccoons-and-killer-rabbits-book-cover.jpg', 'pages': 201, 'subject': 'science', 'summary': \"When the day comes you'll thank me\", 'title': 'ZOMBIE RACCOONS & KILLER BUNNIES'}, {'author': 'Donal I Rogers', 'created_on': 'Mon, 28 Feb 2022 19:21:17 GMT', 'id': 34, 'img': 'https://s2982.pcdn.co/wp-content/uploads/2018/11/teach-your-wife-to-be-a-widow-book-cover.jpg', 'pages': 187, 'subject': 'marriage', 'summary': 'For when your wife browses our marriage section', 'title': 'TEACH YOUR WIFE TO BE A WIDOW'}, {'author': 'The Practical Dev', 'created_on': 'Mon, 07 Mar 2022 21:56:09 GMT', 'id': 35, 'img': 'https://boyter.org/static/books/Cn1rWcbWcAAgsCA.jpg', 'pages': 120, 'subject': 'Programming', 'summary': 'Regex is hard', 'title': 'Googling for the Regex'}, {'author': 'The Practical Dev', 'created_on': 'Mon, 07 Mar 2022 21:56:09 GMT', 'id': 36, 'img': 'https://boyter.org/static/books/CpWvVOoW8AAjYmB.jpg', 'pages': 5324, 'subject': 'Programming', 'summary': 'git add, git commit, git push, git clone, git branch, git fetch', 'title': 'Memorizing Six Git Commands'}, {'author': 'The Practical Dev', 'created_on': 'Mon, 07 Mar 2022 21:56:09 GMT', 'id': 37, 'img': 'https://boyter.org/static/books/CnDD1t0XgAQMXJA.jpg', 'pages': 57, 'subject': 'Programming', 'summary': 'To catch them is your real test, to train them is your cause', 'title': \"Catching 'em all\"}, {'author': 'The Practical Dev', 'created_on': 'Mon, 07 Mar 2022 21:56:09 GMT', 'id': 38, 'img': 'https://boyter.org/static/books/Cf7eHZ1W4AEeZJA.jpg', 'pages': 125, 'subject': 'Programming', 'summary': 'The way programmers like to learn', 'title': 'Changing Stuff and Seeing What Happens'}, {'author': 'The Practical Dev', 'created_on': 'Mon, 07 Mar 2022 21:56:09 GMT', 'id': 39, 'img': 'https://boyter.org/static/books/ChdhDa5XEAAK36t.jpg', 'pages': 233, 'subject': 'Programming', 'summary': 'What happened when I built this ap', 'title': 'Moving Fast and breaking things'}, {'author': 'The Practical Dev', 'created_on': 'Mon, 07 Mar 2022 21:56:09 GMT', 'id': 40, 'img': 'https://boyter.org/static/books/CiHHf9-UYAA6aVB.jpg', 'pages': 233, 'subject': 'Programming', 'summary': 'A book on the key to success', 'title': 'Remembering What to Google'}, {'author': 'Anonymous', 'created_on': 'Mon, 28 Feb 2022 19:21:17 GMT', 'id': 23, 'img': 'https://s2982.pcdn.co/wp-content/uploads/2018/11/cooking-to-kill-book-cover.jpg', 'pages': 3207, 'subject': 'cooking', 'summary': 'Originally titled: Divorce with Benefits', 'title': 'COOKING TO KILL: THE POISON COOK-BOOK'}, {'author': 'The Practical Dev', 'created_on': 'Mon, 07 Mar 2022 21:56:09 GMT', 'id': 41, 'img': 'https://boyter.org/static/books/Cllb9urWMAAKaz4.jpg', 'pages': 384, 'subject': 'Programming', 'summary': 'A book on how I got through Coding Temple Lectures', 'title': 'Nodding along'}, {'author': 'The Practical Dev', 'created_on': 'Mon, 07 Mar 2022 21:56:09 GMT', 'id': 42, 'img': 'https://boyter.org/static/books/CfSQdwUW8AErog1.jpg', 'pages': 32, 'subject': 'Programming', 'summary': 'My programming process', 'title': 'Trying Stuff Until it Works'}, {'author': 'The Practical Dev', 'created_on': 'Mon, 07 Mar 2022 21:56:09 GMT', 'id': 43, 'img': 'https://boyter.org/static/books/pRDPMx2.jpg', 'pages': 475, 'subject': 'Programming', 'summary': 'I think i know what this does', 'title': 'Copying and Pasting from Stack Overflow'}, {'author': 'The Practical Dev', 'created_on': 'Mon, 07 Mar 2022 21:56:09 GMT', 'id': 44, 'img': 'https://boyter.org/static/books/C1_sRq9XgAADMzY.jpg', 'pages': 2, 'subject': 'Programming', 'summary': 'Crossing those fingers', 'title': 'Hoping for the Right Interview Questions'}, {'author': 'The Practical Dev', 'created_on': 'Mon, 07 Mar 2022 22:24:42 GMT', 'id': 45, 'img': 'https://boyter.org/static/books/f8153cfdbe0a117e6386fa7051976063-2.jpeg', 'pages': 923, 'subject': 'Programming', 'summary': \"Wade's old textbook\", 'title': 'Cobol: the fossilized guide'}, {'author': 'The Practical Dev', 'created_on': 'Mon, 07 Mar 2022 22:24:42 GMT', 'id': 46, 'img': 'https://boyter.org/static/books/e1120a9e3abfecff3ac50527e1b3556f-2.jpeg', 'pages': 143, 'subject': 'Programming', 'summary': 'Looks just as good as the original', 'title': 'JPEG Compression'}, {'author': 'Peanut Pirate', 'created_on': 'Wed, 09 Mar 2022 23:12:01 GMT', 'id': 47, 'img': 'http://www.fastprint.co.uk/Assets/User/2107-outwitting-squirrels.jpg', 'pages': 12456, 'subject': 'entertainment', 'summary': \"It's way harder than it sounds\", 'title': 'Outwitting Squirrels'}, {'author': 'Malcolm', 'created_on': 'Wed, 09 Mar 2022 23:12:01 GMT', 'id': 48, 'img': 'http://www.fastprint.co.uk/Assets/User/2064-eating-people-is-wrong.jpg', 'pages': 134, 'subject': 'cooking', 'summary': 'This was also news to me', 'title': 'Eating People is Wrong'}, {'author': '673126', 'created_on': 'Wed, 09 Mar 2022 23:12:01 GMT', 'id': 49, 'img': 'http://www.fastprint.co.uk/Assets/User/2084-how-to-make-money-in-your-spare-time.jpg', 'pages': 666, 'subject': 'self help', 'summary': 'Black mask not included', 'title': 'How to make money in your spare time'}, {'author': 'John W Trimmer', 'created_on': 'Wed, 09 Mar 2022 23:12:01 GMT', 'id': 50, 'img': 'http://www.fastprint.co.uk/Assets/User/2079-how-to-avoid-huge-ships.jpg', 'pages': 1, 'subject': 'science', 'summary': 'Pivot', 'title': 'How to Avoid Huge Ships'}, {'author': 'Heather Silver', 'created_on': 'Wed, 09 Mar 2022 23:12:01 GMT', 'id': 51, 'img': 'http://www.fastprint.co.uk/Assets/User/2142-why-cats-paint.jpg', 'pages': 185, 'subject': 'entertainment', 'summary': 'A photogenic journey through the internets favorite topic', 'title': 'Why Cats Paint'}, {'author': 'Coolio', 'created_on': 'Wed, 09 Mar 2022 23:12:01 GMT', 'id': 52, 'img': 'http://www.fastprint.co.uk/Assets/User/2062-cookin-with-coolio.jpg', 'pages': 207, 'subject': 'cooking', 'summary': 'The fried bologna is devine', 'title': \"Cookin' with Coolio\"}]\n"
     ]
    }
   ],
   "source": [
    "def get_books():\n",
    "    books = requests.get(url + endpoint_book)\n",
    "    return books.json()['books']\n",
    "\n",
    "books = get_books()\n",
    "\n",
    "print(books)"
   ]
  },
  {
   "cell_type": "markdown",
   "metadata": {},
   "source": [
    "## In Class Assignment A\n",
    "\n",
    "#### make a function that returns a set of all the categories/subject found in the book list"
   ]
  },
  {
   "cell_type": "code",
   "execution_count": 3,
   "metadata": {},
   "outputs": [
    {
     "data": {
      "text/plain": [
       "{'Cooking',\n",
       " 'Entertainment',\n",
       " 'Marriage',\n",
       " 'Marriage Advice',\n",
       " 'Programming',\n",
       " 'Science',\n",
       " 'Self Help'}"
      ]
     },
     "execution_count": 3,
     "metadata": {},
     "output_type": "execute_result"
    }
   ],
   "source": [
    "\n",
    "def get_category_list(books):\n",
    "    return { book[\"subject\"].title() for book in books }\n",
    "\n",
    "get_category_list(books)\n"
   ]
  },
  {
   "cell_type": "markdown",
   "metadata": {},
   "source": [
    "## In Class Assignment B\n",
    "\n",
    "#### make a function that returns a list of all the books(dicts) in a category"
   ]
  },
  {
   "cell_type": "code",
   "execution_count": 4,
   "metadata": {},
   "outputs": [
    {
     "name": "stdout",
     "output_type": "stream",
     "text": [
      "[{'author': 'Arlene Dahl', 'created_on': 'Mon, 28 Feb 2022 19:21:17 GMT', 'id': 18, 'img': 'https://s2982.pcdn.co/wp-content/uploads/2018/11/always-ask-a-man-book-cover.jpg', 'pages': 198, 'subject': 'self help', 'summary': 'For women traveling back to the US 1950', 'title': 'ALWAYS ASK A MAN: THE KEY TO FEMININITY'}, {'author': 'Arnetta R. Scales', 'created_on': 'Mon, 28 Feb 2022 19:21:17 GMT', 'id': 19, 'img': 'https://s2982.pcdn.co/wp-content/uploads/2018/11/and-on-the-eighth-day-god-created-hairdressers-book-cover.jpg', 'pages': 222, 'subject': 'self help', 'summary': 'Becuase I just gotta get my hair did', 'title': 'AND ON THE EIGHTH DAY GOD CREATED HAIRDRESSERS'}, {'author': 'Stephanie Jackson', 'created_on': 'Mon, 28 Feb 2022 19:21:17 GMT', 'id': 21, 'img': 'https://s2982.pcdn.co/wp-content/uploads/2018/11/cat-flexing.jpg', 'pages': 1295, 'subject': 'self help', 'summary': 'Who needs heavy weights when a fat cat will do', 'title': 'CATFLEXING: A CATLOVER’S GUIDE TO WEIGHTLIFTING, AEROBICS & STRETCHING'}, {'author': 'Brenda Bence', 'created_on': 'Mon, 28 Feb 2022 19:21:17 GMT', 'id': 26, 'img': 'https://s2982.pcdn.co/wp-content/uploads/2018/11/how-you-are-like-shampoo-book-cover.jpg', 'pages': 222, 'subject': 'self help', 'summary': 'Lather, rinse, repeat.', 'title': 'HOW YOU ARE LIKE SHAMPOO'}, {'author': 'Hester Mundis', 'created_on': 'Mon, 28 Feb 2022 19:21:17 GMT', 'id': 31, 'img': 'https://s2982.pcdn.co/wp-content/uploads/2018/11/no-hes-not-a-monkey-book-cover.jpg', 'pages': 521, 'subject': 'self help', 'summary': 'Advice on raising a teenage boy', 'title': 'NO, HE’S NOT A MONKEY, HE’S AN APE AND HE’S MY SON'}, {'author': '673126', 'created_on': 'Wed, 09 Mar 2022 23:12:01 GMT', 'id': 49, 'img': 'http://www.fastprint.co.uk/Assets/User/2084-how-to-make-money-in-your-spare-time.jpg', 'pages': 666, 'subject': 'self help', 'summary': 'Black mask not included', 'title': 'How to make money in your spare time'}]\n"
     ]
    }
   ],
   "source": [
    "\n",
    "def get_book_by_category(books, category):\n",
    "    return [book for book in books if book[\"subject\"] == category]\n",
    "\n",
    "print(get_book_by_category(books, \"self help\"))"
   ]
  },
  {
   "cell_type": "markdown",
   "metadata": {},
   "source": [
    "## Using a SLUG\n",
    "A Slug is the unique identifying part of a web address, typically at the end of the URL"
   ]
  },
  {
   "cell_type": "code",
   "execution_count": 5,
   "metadata": {
    "scrolled": true
   },
   "outputs": [
    {
     "name": "stdout",
     "output_type": "stream",
     "text": [
      "{'author': 'Micheala Giles', 'created_on': 'Mon, 28 Feb 2022 19:21:17 GMT', 'id': 22, 'img': 'https://s2982.pcdn.co/wp-content/uploads/2018/11/commuter-pig-keeper-book-cover.jpg', 'pages': 87, 'subject': 'science', 'summary': 'Not in Kansas anymore? Raising pigs in the City with a full time job?', 'title': 'THE COMMUTER PIG KEEPER'}\n"
     ]
    }
   ],
   "source": [
    "def get_single_book(book_id):\n",
    "    single_book = requests.get(url + endpoint_book + '/' + str(book_id))\n",
    "    return single_book.json()\n",
    "    \n",
    "print(get_single_book(22))"
   ]
  },
  {
   "cell_type": "markdown",
   "metadata": {},
   "source": [
    "## POST Requests\n",
    "\n",
    "#### json.dumps will convert a dictionary into a JSON String ready for transport"
   ]
  },
  {
   "cell_type": "code",
   "execution_count": 6,
   "metadata": {
    "scrolled": true
   },
   "outputs": [
    {
     "data": {
      "text/plain": [
       "'success'"
      ]
     },
     "execution_count": 6,
     "metadata": {},
     "output_type": "execute_result"
    }
   ],
   "source": [
    "import json\n",
    "\n",
    "\n",
    "def register_user(payload):\n",
    "    payload_json_string=json.dumps(payload)\n",
    "    headers = {\n",
    "        'Content-Type': 'application/json'\n",
    "    }\n",
    "\n",
    "    response=requests.post(\n",
    "        url + endpoint_user,\n",
    "        data = payload_json_string,\n",
    "        headers = headers\n",
    "    )\n",
    "    return response.text\n",
    "\n",
    "cobys_payload={\n",
    "        \"email\":\"jacobyyliniemi@gmail.com\",\n",
    "        \"first_name\":\"Jacoby\",\n",
    "        \"last_name\":\"Yliniemi\",\n",
    "        \"password\":\"yliniemi\"\n",
    "}    \n",
    "\n",
    "register_user(cobys_payload)"
   ]
  },
  {
   "cell_type": "markdown",
   "metadata": {},
   "source": [
    "## Authentication - Basic Authorization\n"
   ]
  },
  {
   "cell_type": "code",
   "execution_count": 7,
   "metadata": {
    "scrolled": true
   },
   "outputs": [],
   "source": [
    "import base64\n",
    "\n",
    "def login_user(user_name, password):\n",
    "    \n",
    "    auth_string = user_name + ':' + password\n",
    "    \n",
    "    headers = {\n",
    "        'Authorization': \"Basic \" + base64.b64encode(auth_string.encode()).decode()\n",
    "    }\n",
    "\n",
    "    user_data = requests.get(\n",
    "        url + endpoint_login,\n",
    "        headers = headers\n",
    "    )\n",
    "    return user_data.json()\n",
    "\n",
    "coby_user = login_user(cobys_payload[\"email\"], cobys_payload[\"password\"])"
   ]
  },
  {
   "cell_type": "code",
   "execution_count": 27,
   "metadata": {},
   "outputs": [
    {
     "name": "stdout",
     "output_type": "stream",
     "text": [
      "{'created_on': 'Thu, 21 Jul 2022 20:49:35 GMT', 'email': 'jacobyyliniemi@gmail.com', 'first_name': 'Jacoby', 'last_name': 'Yliniemi', 'modified_on': 'Thu, 21 Jul 2022 20:49:37 GMT', 'token': 'w9xUQ3hDJW-pCkrumKeMycK5QOMeNnVLAI_XeFmzoBI', 'user_id': 229}\n"
     ]
    }
   ],
   "source": [
    "print(coby_user)"
   ]
  },
  {
   "cell_type": "markdown",
   "metadata": {},
   "source": [
    "## Authentication - Bearer Authorization & PUT Requests"
   ]
  },
  {
   "cell_type": "code",
   "execution_count": 9,
   "metadata": {},
   "outputs": [
    {
     "name": "stdout",
     "output_type": "stream",
     "text": [
      "200\n"
     ]
    }
   ],
   "source": [
    "def edit_user(token, payload):\n",
    "    payload_json_string=json.dumps(payload)\n",
    "    headers = {\n",
    "        'Content-Type' : 'application/json',\n",
    "        'Authorization' : 'Bearer ' + token\n",
    "    }\n",
    "\n",
    "    response=requests.put(\n",
    "        url + endpoint_user,\n",
    "        data = payload_json_string,\n",
    "        headers = headers\n",
    "    )\n",
    "    return response.status_code\n",
    "\n",
    "cobys_edit_payload={\n",
    "        \"first_name\":\"Jacoby\"\n",
    "}    \n",
    "\n",
    "print(edit_user(coby_user['token'], cobys_edit_payload))\n"
   ]
  },
  {
   "cell_type": "code",
   "execution_count": 10,
   "metadata": {
    "scrolled": false
   },
   "outputs": [
    {
     "name": "stdout",
     "output_type": "stream",
     "text": [
      "Jacoby\n"
     ]
    }
   ],
   "source": [
    "print(login_user(cobys_payload[\"email\"], cobys_payload[\"password\"])['first_name'])"
   ]
  },
  {
   "cell_type": "markdown",
   "metadata": {},
   "source": [
    "## DELETE Request"
   ]
  },
  {
   "cell_type": "code",
   "execution_count": 11,
   "metadata": {},
   "outputs": [
    {
     "name": "stdout",
     "output_type": "stream",
     "text": [
      "success\n"
     ]
    }
   ],
   "source": [
    "def delete_user(token):\n",
    "    headers = {\n",
    "        'Authorization': \"Bearer \" + token\n",
    "    }\n",
    "\n",
    "    response=requests.delete(\n",
    "        url + endpoint_user,\n",
    "        headers = headers\n",
    "    )\n",
    "    return response.text\n",
    "\n",
    "print(delete_user(coby_user['token']))\n"
   ]
  },
  {
   "cell_type": "code",
   "execution_count": 12,
   "metadata": {},
   "outputs": [],
   "source": [
    "# coby_user = login_user(cobys_payload[\"email\"], cobys_payload[\"password\"])['first_name']\n",
    "# print(coby_user)"
   ]
  },
  {
   "cell_type": "markdown",
   "metadata": {},
   "source": [
    "## Display Images in Jupyter notebook"
   ]
  },
  {
   "cell_type": "code",
   "execution_count": 13,
   "metadata": {},
   "outputs": [
    {
     "data": {
      "text/html": [
       "<img src=\"https://s2982.pcdn.co/wp-content/uploads/2018/11/commuter-pig-keeper-book-cover.jpg\"/>"
      ],
      "text/plain": [
       "<IPython.core.display.Image object>"
      ]
     },
     "metadata": {},
     "output_type": "display_data"
    }
   ],
   "source": [
    "from IPython.display import Image\n",
    "from IPython.display import display\n",
    "\n",
    "image=Image(url='https://s2982.pcdn.co/wp-content/uploads/2018/11/commuter-pig-keeper-book-cover.jpg') \n",
    "display(image)\n"
   ]
  },
  {
   "cell_type": "markdown",
   "metadata": {},
   "source": [
    "## Make an Application"
   ]
  },
  {
   "cell_type": "code",
   "execution_count": 30,
   "metadata": {},
   "outputs": [
    {
     "name": "stdout",
     "output_type": "stream",
     "text": [
      "Welcome to Boby's Books\n"
     ]
    },
    {
     "ename": "KeyboardInterrupt",
     "evalue": "Interrupted by user",
     "output_type": "error",
     "traceback": [
      "\u001b[0;31m---------------------------------------------------------------------------\u001b[0m",
      "\u001b[0;31mKeyboardInterrupt\u001b[0m                         Traceback (most recent call last)",
      "Input \u001b[0;32mIn [30]\u001b[0m, in \u001b[0;36m<cell line: 237>\u001b[0;34m()\u001b[0m\n\u001b[1;32m    234\u001b[0m                 save_reading_list(reading_list)\n\u001b[1;32m    235\u001b[0m                 \u001b[38;5;28;01mreturn\u001b[39;00m\n\u001b[0;32m--> 237\u001b[0m \u001b[43mmain\u001b[49m\u001b[43m(\u001b[49m\u001b[43m)\u001b[49m\n",
      "Input \u001b[0;32mIn [30]\u001b[0m, in \u001b[0;36mmain\u001b[0;34m()\u001b[0m\n\u001b[1;32m    169\u001b[0m clear_output()\n\u001b[1;32m    170\u001b[0m \u001b[38;5;28mprint\u001b[39m(\u001b[38;5;124m\"\u001b[39m\u001b[38;5;124mWelcome to Boby\u001b[39m\u001b[38;5;124m'\u001b[39m\u001b[38;5;124ms Books\u001b[39m\u001b[38;5;124m\"\u001b[39m)\n\u001b[0;32m--> 171\u001b[0m email \u001b[38;5;241m=\u001b[39m \u001b[38;5;28;43minput\u001b[39;49m\u001b[43m(\u001b[49m\u001b[38;5;124;43m\"\u001b[39;49m\u001b[38;5;124;43mType your email to login or type `register` to register: \u001b[39;49m\u001b[38;5;124;43m\"\u001b[39;49m\u001b[43m)\u001b[49m\n\u001b[1;32m    172\u001b[0m \u001b[38;5;28;01mif\u001b[39;00m email\u001b[38;5;241m.\u001b[39mlower() \u001b[38;5;241m==\u001b[39m \u001b[38;5;124m\"\u001b[39m\u001b[38;5;124mregister\u001b[39m\u001b[38;5;124m\"\u001b[39m:\n\u001b[1;32m    173\u001b[0m     success_register \u001b[38;5;241m=\u001b[39m register()\n",
      "File \u001b[0;32m~/anaconda3/lib/python3.9/site-packages/ipykernel/kernelbase.py:1075\u001b[0m, in \u001b[0;36mKernel.raw_input\u001b[0;34m(self, prompt)\u001b[0m\n\u001b[1;32m   1071\u001b[0m \u001b[38;5;28;01mif\u001b[39;00m \u001b[38;5;129;01mnot\u001b[39;00m \u001b[38;5;28mself\u001b[39m\u001b[38;5;241m.\u001b[39m_allow_stdin:\n\u001b[1;32m   1072\u001b[0m     \u001b[38;5;28;01mraise\u001b[39;00m StdinNotImplementedError(\n\u001b[1;32m   1073\u001b[0m         \u001b[38;5;124m\"\u001b[39m\u001b[38;5;124mraw_input was called, but this frontend does not support input requests.\u001b[39m\u001b[38;5;124m\"\u001b[39m\n\u001b[1;32m   1074\u001b[0m     )\n\u001b[0;32m-> 1075\u001b[0m \u001b[38;5;28;01mreturn\u001b[39;00m \u001b[38;5;28;43mself\u001b[39;49m\u001b[38;5;241;43m.\u001b[39;49m\u001b[43m_input_request\u001b[49m\u001b[43m(\u001b[49m\n\u001b[1;32m   1076\u001b[0m \u001b[43m    \u001b[49m\u001b[38;5;28;43mstr\u001b[39;49m\u001b[43m(\u001b[49m\u001b[43mprompt\u001b[49m\u001b[43m)\u001b[49m\u001b[43m,\u001b[49m\n\u001b[1;32m   1077\u001b[0m \u001b[43m    \u001b[49m\u001b[38;5;28;43mself\u001b[39;49m\u001b[38;5;241;43m.\u001b[39;49m\u001b[43m_parent_ident\u001b[49m\u001b[43m[\u001b[49m\u001b[38;5;124;43m\"\u001b[39;49m\u001b[38;5;124;43mshell\u001b[39;49m\u001b[38;5;124;43m\"\u001b[39;49m\u001b[43m]\u001b[49m\u001b[43m,\u001b[49m\n\u001b[1;32m   1078\u001b[0m \u001b[43m    \u001b[49m\u001b[38;5;28;43mself\u001b[39;49m\u001b[38;5;241;43m.\u001b[39;49m\u001b[43mget_parent\u001b[49m\u001b[43m(\u001b[49m\u001b[38;5;124;43m\"\u001b[39;49m\u001b[38;5;124;43mshell\u001b[39;49m\u001b[38;5;124;43m\"\u001b[39;49m\u001b[43m)\u001b[49m\u001b[43m,\u001b[49m\n\u001b[1;32m   1079\u001b[0m \u001b[43m    \u001b[49m\u001b[43mpassword\u001b[49m\u001b[38;5;241;43m=\u001b[39;49m\u001b[38;5;28;43;01mFalse\u001b[39;49;00m\u001b[43m,\u001b[49m\n\u001b[1;32m   1080\u001b[0m \u001b[43m\u001b[49m\u001b[43m)\u001b[49m\n",
      "File \u001b[0;32m~/anaconda3/lib/python3.9/site-packages/ipykernel/kernelbase.py:1120\u001b[0m, in \u001b[0;36mKernel._input_request\u001b[0;34m(self, prompt, ident, parent, password)\u001b[0m\n\u001b[1;32m   1117\u001b[0m             \u001b[38;5;28;01mbreak\u001b[39;00m\n\u001b[1;32m   1118\u001b[0m \u001b[38;5;28;01mexcept\u001b[39;00m \u001b[38;5;167;01mKeyboardInterrupt\u001b[39;00m:\n\u001b[1;32m   1119\u001b[0m     \u001b[38;5;66;03m# re-raise KeyboardInterrupt, to truncate traceback\u001b[39;00m\n\u001b[0;32m-> 1120\u001b[0m     \u001b[38;5;28;01mraise\u001b[39;00m \u001b[38;5;167;01mKeyboardInterrupt\u001b[39;00m(\u001b[38;5;124m\"\u001b[39m\u001b[38;5;124mInterrupted by user\u001b[39m\u001b[38;5;124m\"\u001b[39m) \u001b[38;5;28;01mfrom\u001b[39;00m \u001b[38;5;28mNone\u001b[39m\n\u001b[1;32m   1121\u001b[0m \u001b[38;5;28;01mexcept\u001b[39;00m \u001b[38;5;167;01mException\u001b[39;00m:\n\u001b[1;32m   1122\u001b[0m     \u001b[38;5;28mself\u001b[39m\u001b[38;5;241m.\u001b[39mlog\u001b[38;5;241m.\u001b[39mwarning(\u001b[38;5;124m\"\u001b[39m\u001b[38;5;124mInvalid Message:\u001b[39m\u001b[38;5;124m\"\u001b[39m, exc_info\u001b[38;5;241m=\u001b[39m\u001b[38;5;28;01mTrue\u001b[39;00m)\n",
      "\u001b[0;31mKeyboardInterrupt\u001b[0m: Interrupted by user"
     ]
    }
   ],
   "source": [
    "from getpass import getpass\n",
    "import time\n",
    "from IPython.display import clear_output\n",
    "from IPython.display import Image\n",
    "from IPython.display import display\n",
    "import json\n",
    "\n",
    "from iter_help import first_match\n",
    "from pretty import mprint\n",
    "\n",
    "def login(email):\n",
    "    clear_output()\n",
    "    password = getpass(\"Password: \")\n",
    "    user = login_user(email, password)\n",
    "    return user\n",
    "\n",
    "def register():\n",
    "    clear_output()\n",
    "    print(\"Registration...\")\n",
    "    email = input(\"Email: \")\n",
    "    first_name = input(\"First name: \")\n",
    "    last_name = input(\"Last name: \")\n",
    "    password = getpass(\"Password: \")\n",
    "    password2 = getpass(\"Confirm password: \")\n",
    "    if password != password2:\n",
    "        print(\"Passwords don't match!\")\n",
    "        time.sleep(2)\n",
    "        register()\n",
    "        return\n",
    "    \n",
    "    user_dict = {\n",
    "        \"email\": email,\n",
    "        \"first_name\": first_name,\n",
    "        \"last_name\": last_name,\n",
    "        \"password\": password\n",
    "    }\n",
    "    \n",
    "    return register_user(user_dict)\n",
    "\n",
    "def display_book_short(book):\n",
    "    print(f\"{book['id']} | {book['title'][:50].ljust(50)} | {book['subject']}\")\n",
    "    \n",
    "def display_book_long(book):\n",
    "    cover = Image(url=book[\"img\"])\n",
    "    mprint(f\"\"\"\n",
    "        Title:   {book[\"title\"]}\n",
    "        Book ID: {book[\"id\"]}\n",
    "        Author:  {book[\"author\"]}\n",
    "        Subject: {book[\"subject\"]}\n",
    "        Summary: {book[\"summary\"]}\n",
    "\n",
    "    \"\"\")\n",
    "    \n",
    "class ReadingList():\n",
    "    def __init__(self):\n",
    "        self.reading_list = load_reading_list()\n",
    "        \n",
    "    def add_book(self, book):\n",
    "        if book not in self.reading_list:\n",
    "            self.reading_list.append(book)\n",
    "    def remove_book(self, book):\n",
    "        if book in self.reading_list:\n",
    "            self.reading_list.remove(book)\n",
    "    def empty(self):\n",
    "        self.reading_list.clear()\n",
    "    def show_book_list(self):\n",
    "        clear_output()\n",
    "        if len(self.reading_list) == 0:\n",
    "            print(\"Your reading list is empty!\")\n",
    "        else:\n",
    "            for book in self.reading_list:\n",
    "                print(\"—\"*30)\n",
    "                display_book_long(book)\n",
    "                \n",
    "    def show_small_book_list(self):\n",
    "        if len(self.reading_list) == 0:\n",
    "            print(\"Your reading list is empty\")\n",
    "        else:\n",
    "            for book in self.reading_list:\n",
    "                display_book_short(book)\n",
    "\n",
    "def remove_book(reading_list):\n",
    "    while True:\n",
    "        clear_output()\n",
    "        reading_list.show_small_book_list()\n",
    "        remove = input(\"ID of book to remove [`back` cancel]: \").lower()\n",
    "        if remove == \"back\":\n",
    "            break\n",
    "        elif remove.isnumeric():\n",
    "            removed_book = first_match(lambda book: book[\"id\"] == int(remove), reading_list.reading_list)[0]\n",
    "            if remove_book == None:\n",
    "                print(f\"`{remove}` not in book list!\")\n",
    "                time.sleep(2)\n",
    "                continue\n",
    "            reading_list.remove( removed_book ) \n",
    "            print(f\"Book removed\")\n",
    "            time.sleep(2)\n",
    "            break\n",
    "        else:\n",
    "            print(f\"`{remove}` not in book list!\")\n",
    "            time.sleep(2)\n",
    "            continue\n",
    "\n",
    "# login_user(cobys_payload[\"email\"], cobys_payload[\"password\"])\n",
    "def delete_account(email, password):\n",
    "    delete_user(login_user(email, password)[\"token\"])\n",
    "\n",
    "def save_reading_list(reading_list: ReadingList):\n",
    "    with open(\"readinglist.json\", \"w\") as file:\n",
    "        file.write(json.dumps(reading_list.reading_list))\n",
    "\n",
    "def load_reading_list():\n",
    "    with open(\"readinglist.json\", \"r\") as file:\n",
    "        return json.loads(file.read())\n",
    "\n",
    "def browse_books(books, reading_list, subject=None):\n",
    "    while True:\n",
    "        clear_output()\n",
    "        mprint(f\"\"\"\n",
    "            Welcome to the Browser        \n",
    "            You are viewing {subject if subject else 'all'} books\n",
    "            [ID] \\t| {\"[TITLE]\".ljust(50)}| [SUBJECT]\n",
    "        \"\"\")\n",
    "        if subject:\n",
    "            books = get_book_by_category(books, subject)\n",
    "        for book in books:\n",
    "            display_book_short(book)\n",
    "        \n",
    "        selected = input(\"Select your book by ID [`back` to cancel] \")   \n",
    "        if selected.lower() == \"back\":\n",
    "            return\n",
    "        elif selected.isnumeric() and int(selected) in map(lambda book: book['id'], books):\n",
    "            selected = int(selected)\n",
    "            while True:\n",
    "                sel_book = first_match(lambda book: book[\"id\"] == selected, books)\n",
    "                mprint(f\"\"\"\n",
    "                    You Selected: {sel_book['title']}\n",
    "                    1. Add Book To Reading List\n",
    "                    2. View More Information\n",
    "                    3. Go Back\n",
    "                    4. Go To Main Menu\n",
    "                \"\"\")\n",
    "                action = input(\"Action: \")\n",
    "                if action == \"1\":\n",
    "                    reading_list.add_book(sel_book)\n",
    "                    print(\"As you wish\")\n",
    "                    time.sleep(1)\n",
    "                    break\n",
    "                elif action == \"2\":\n",
    "                    clear_output()\n",
    "                    display_book_long(sel_book)\n",
    "                    input(\"Enter Any Key To Continue\")\n",
    "                elif action == \"3\":\n",
    "                    break \n",
    "                elif action == \"4\":\n",
    "                    return                    \n",
    "        else:\n",
    "            print(\"Invalid ID\")\n",
    "            time.sleep(2)\n",
    "            continue\n",
    "                \n",
    "def main():\n",
    "    reading_list = ReadingList()\n",
    "    books = get_books()\n",
    "    categories = get_category_list(books)\n",
    "    user_token = \"\"\n",
    "    \n",
    "    while True:\n",
    "        clear_output()\n",
    "        print(\"Welcome to Boby's Books\")\n",
    "        email = input(\"Type your email to login or type `register` to register: \")\n",
    "        if email.lower() == \"register\":\n",
    "            success_register = register()\n",
    "            if success_register:\n",
    "                print(\"You have successfully registered!\")\n",
    "                continue\n",
    "        elif email.lower() == \"quit\":\n",
    "            print(\"Bye\")\n",
    "            break\n",
    "        else:\n",
    "            try:\n",
    "                user = login(email)\n",
    "                user_token = user[\"token\"]\n",
    "            except:\n",
    "                print(\"Invalid login...\")\n",
    "                time.sleep(2)\n",
    "                continue\n",
    "        \n",
    "        while True:\n",
    "            clear_output()\n",
    "            mprint(\"\"\"\n",
    "                Welcome to the Repository\n",
    "                You can:\n",
    "                1. Browse all books\n",
    "                2. Browse book by category\n",
    "                3. View reading list\n",
    "                4. Remove book from reading list\n",
    "                5. Delete account\n",
    "                6. Quit\n",
    "            \"\"\")\n",
    "            cmd = input(\"Input command 1-6: \")\n",
    "            if cmd == \"1\":\n",
    "                browse_books(books, reading_list)\n",
    "            if cmd == \"2\":\n",
    "                while True:\n",
    "                    clear_output()\n",
    "                    print(\" | \".join(categories))\n",
    "                    print(\"`Back` to go back\")\n",
    "                    categ = input(\"Category: \").title()\n",
    "                    if categ.lower() == \"back\":\n",
    "                        break\n",
    "                    elif categ not in categories:\n",
    "                        continue\n",
    "                    else:\n",
    "                        browse_books(books, reading_list, categ)\n",
    "            if cmd == \"3\":\n",
    "                reading_list.show_book_list()\n",
    "                input(\"Press enter to return\")\n",
    "                continue\n",
    "            if cmd == \"4\":\n",
    "                remove_book(reading_list)\n",
    "                continue\n",
    "            if cmd == \"5\":\n",
    "                clear_output()\n",
    "                inp = input(\"Are you sure you'd like to delete your account? [Yes / No]: \").lower()\n",
    "                if inp == \"y\":\n",
    "                    print(\"Deleting account\")\n",
    "                    delete_user(user_token)\n",
    "                    break\n",
    "                else:\n",
    "                    print(\"Not deleteing account (:\")\n",
    "                continue\n",
    "            if cmd == \"6\":\n",
    "                save_reading_list(reading_list)\n",
    "                return\n",
    "\n",
    "main()"
   ]
  },
  {
   "cell_type": "code",
   "execution_count": null,
   "metadata": {},
   "outputs": [],
   "source": []
  },
  {
   "cell_type": "code",
   "execution_count": null,
   "metadata": {},
   "outputs": [],
   "source": []
  }
 ],
 "metadata": {
  "kernelspec": {
   "display_name": "Python 3 (ipykernel)",
   "language": "python",
   "name": "python3"
  },
  "language_info": {
   "codemirror_mode": {
    "name": "ipython",
    "version": 3
   },
   "file_extension": ".py",
   "mimetype": "text/x-python",
   "name": "python",
   "nbconvert_exporter": "python",
   "pygments_lexer": "ipython3",
   "version": "3.9.12"
  }
 },
 "nbformat": 4,
 "nbformat_minor": 4
}
